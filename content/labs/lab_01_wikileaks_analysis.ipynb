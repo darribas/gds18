{
 "cells": [
  {
   "cell_type": "markdown",
   "metadata": {},
   "source": [
    "# Wikileaks Data Analysis"
   ]
  },
  {
   "cell_type": "code",
   "execution_count": 1,
   "metadata": {
    "collapsed": true
   },
   "outputs": [],
   "source": [
    "import pandas as pd\n",
    "import seaborn as sns\n",
    "import matplotlib.pyplot as plt"
   ]
  },
  {
   "cell_type": "markdown",
   "metadata": {},
   "source": [
    "Access the file from this url: https://docs.google.com/spreadsheets/d/1EAx8_ksSCmoWW_SlhFyq2QrRn0FNNhcg1TtDFJzZRgc/edit?hl=en#gid=1"
   ]
  },
  {
   "cell_type": "markdown",
   "metadata": {},
   "source": [
    "## Read data\n",
    "\n",
    "### Direct solution\n",
    "\n",
    "The simplest approach is to read the `csv` skipping the top and bottom rows, which are not part of the table of data:"
   ]
  },
  {
   "cell_type": "code",
   "execution_count": 2,
   "metadata": {},
   "outputs": [
    {
     "name": "stderr",
     "output_type": "stream",
     "text": [
      "/Users/dani/anaconda/envs/gds/lib/python3.6/site-packages/ipykernel_launcher.py:2: ParserWarning: Falling back to the 'python' engine because the 'c' engine does not support skipfooter; you can avoid this warning by specifying engine='python'.\n",
      "  \n"
     ]
    }
   ],
   "source": [
    "wiki = pd.read_csv('Wikileaks Afghanistan war logs analysis - TOTAL CASUALTIES, ALL CAUSES.csv',\n",
    "                   skiprows=1, skipfooter=1)"
   ]
  },
  {
   "cell_type": "markdown",
   "metadata": {},
   "source": [
    "### More general solution\n",
    "\n",
    "The second option does not remove the final row directly but instead shows you how to remove elements that prevent Python from reading numbers as integer/floats, such as commas (`,`). \n",
    "\n",
    "**IMPORTANT**: Keep in mind for this particular analysis, the previous solution is preferred, but this is included to provide more general insight into \"cleaning\" data."
   ]
  },
  {
   "cell_type": "code",
   "execution_count": 3,
   "metadata": {},
   "outputs": [],
   "source": [
    "# skip first row in file so column names load properly\n",
    "# wiki = pd.read_csv('wikileads.csv', skipfooter=1, skiprows=1, engine='python')\n",
    "wiki = pd.read_csv('Wikileaks Afghanistan war logs analysis - TOTAL CASUALTIES, ALL CAUSES.csv', \n",
    "                   skiprows=1)"
   ]
  },
  {
   "cell_type": "markdown",
   "metadata": {},
   "source": [
    "Now let's tidy up our columns of interest. By default, these columns are loaded as characters (or strings), so in the following cells we convert the character representation of the war logs to numeric so we can perform analysis on them."
   ]
  },
  {
   "cell_type": "code",
   "execution_count": 4,
   "metadata": {},
   "outputs": [
    {
     "name": "stdout",
     "output_type": "stream",
     "text": [
      "['Taliban', 'Civilians', 'Afghan forces', 'Nato (detailed in spreadsheet)', 'Nato - official figures']\n"
     ]
    }
   ],
   "source": [
    "select_cols = list(wiki.columns[2:]) # select numeric columns to clean\n",
    "\n",
    "print(select_cols)"
   ]
  },
  {
   "cell_type": "markdown",
   "metadata": {},
   "source": [
    "In this function, that we apply to every cell of the dataframe using the applymap function, we firstly convert every cell to a string, remove every comma, then finally convert each cell to a numeric datatype."
   ]
  },
  {
   "cell_type": "code",
   "execution_count": 5,
   "metadata": {},
   "outputs": [],
   "source": [
    "# define custom function to remove commas from rows\n",
    "# so we can convert to a numeric data type\n",
    "def convert_to_float(x):\n",
    "    \n",
    "    # convert every cell to string\n",
    "    x = str(x)\n",
    "    \n",
    "    # remove every comma\n",
    "    x = x.replace(',', '')\n",
    "    \n",
    "    # convert every cell to numeric\n",
    "    x = float(x)\n",
    "    \n",
    "    return x"
   ]
  },
  {
   "cell_type": "markdown",
   "metadata": {},
   "source": [
    "Now we apply our custom function to the selected columns."
   ]
  },
  {
   "cell_type": "code",
   "execution_count": 6,
   "metadata": {},
   "outputs": [],
   "source": [
    "# apply custom function across numeric columns in `select rows` object\n",
    "wiki.loc[:, select_cols] = wiki.loc[:, select_cols].applymap(convert_to_float)"
   ]
  },
  {
   "cell_type": "markdown",
   "metadata": {},
   "source": [
    "Next we eyeball a few rows of the dataframe and check datatypes to ensure our function has worked."
   ]
  },
  {
   "cell_type": "code",
   "execution_count": 7,
   "metadata": {},
   "outputs": [
    {
     "data": {
      "text/html": [
       "<div>\n",
       "<style scoped>\n",
       "    .dataframe tbody tr th:only-of-type {\n",
       "        vertical-align: middle;\n",
       "    }\n",
       "\n",
       "    .dataframe tbody tr th {\n",
       "        vertical-align: top;\n",
       "    }\n",
       "\n",
       "    .dataframe thead th {\n",
       "        text-align: right;\n",
       "    }\n",
       "</style>\n",
       "<table border=\"1\" class=\"dataframe\">\n",
       "  <thead>\n",
       "    <tr style=\"text-align: right;\">\n",
       "      <th></th>\n",
       "      <th>Year</th>\n",
       "      <th>Month</th>\n",
       "      <th>Taliban</th>\n",
       "      <th>Civilians</th>\n",
       "      <th>Afghan forces</th>\n",
       "      <th>Nato (detailed in spreadsheet)</th>\n",
       "      <th>Nato - official figures</th>\n",
       "    </tr>\n",
       "  </thead>\n",
       "  <tbody>\n",
       "    <tr>\n",
       "      <th>0</th>\n",
       "      <td>2004.0</td>\n",
       "      <td>January</td>\n",
       "      <td>15.0</td>\n",
       "      <td>51.0</td>\n",
       "      <td>23.0</td>\n",
       "      <td>NaN</td>\n",
       "      <td>11.0</td>\n",
       "    </tr>\n",
       "    <tr>\n",
       "      <th>1</th>\n",
       "      <td>2004.0</td>\n",
       "      <td>February</td>\n",
       "      <td>NaN</td>\n",
       "      <td>7.0</td>\n",
       "      <td>4.0</td>\n",
       "      <td>5.0</td>\n",
       "      <td>2.0</td>\n",
       "    </tr>\n",
       "    <tr>\n",
       "      <th>2</th>\n",
       "      <td>2004.0</td>\n",
       "      <td>March</td>\n",
       "      <td>19.0</td>\n",
       "      <td>2.0</td>\n",
       "      <td>NaN</td>\n",
       "      <td>2.0</td>\n",
       "      <td>3.0</td>\n",
       "    </tr>\n",
       "    <tr>\n",
       "      <th>3</th>\n",
       "      <td>2004.0</td>\n",
       "      <td>April</td>\n",
       "      <td>5.0</td>\n",
       "      <td>3.0</td>\n",
       "      <td>19.0</td>\n",
       "      <td>NaN</td>\n",
       "      <td>3.0</td>\n",
       "    </tr>\n",
       "    <tr>\n",
       "      <th>4</th>\n",
       "      <td>2004.0</td>\n",
       "      <td>May</td>\n",
       "      <td>18.0</td>\n",
       "      <td>29.0</td>\n",
       "      <td>56.0</td>\n",
       "      <td>6.0</td>\n",
       "      <td>9.0</td>\n",
       "    </tr>\n",
       "  </tbody>\n",
       "</table>\n",
       "</div>"
      ],
      "text/plain": [
       "     Year     Month  Taliban  Civilians  Afghan forces  \\\n",
       "0  2004.0   January     15.0       51.0           23.0   \n",
       "1  2004.0  February      NaN        7.0            4.0   \n",
       "2  2004.0     March     19.0        2.0            NaN   \n",
       "3  2004.0     April      5.0        3.0           19.0   \n",
       "4  2004.0       May     18.0       29.0           56.0   \n",
       "\n",
       "   Nato (detailed in spreadsheet)  Nato - official figures  \n",
       "0                             NaN                     11.0  \n",
       "1                             5.0                      2.0  \n",
       "2                             2.0                      3.0  \n",
       "3                             NaN                      3.0  \n",
       "4                             6.0                      9.0  "
      ]
     },
     "execution_count": 7,
     "metadata": {},
     "output_type": "execute_result"
    }
   ],
   "source": [
    "wiki.head()"
   ]
  },
  {
   "cell_type": "code",
   "execution_count": 8,
   "metadata": {},
   "outputs": [
    {
     "data": {
      "text/plain": [
       "Year                              float64\n",
       "Month                              object\n",
       "Taliban                           float64\n",
       "Civilians                         float64\n",
       "Afghan forces                     float64\n",
       "Nato (detailed in spreadsheet)    float64\n",
       "Nato - official figures           float64\n",
       "dtype: object"
      ]
     },
     "execution_count": 8,
     "metadata": {},
     "output_type": "execute_result"
    }
   ],
   "source": [
    "# now we have numeric (float64) datatypes to do some analysis on\n",
    "wiki.dtypes "
   ]
  },
  {
   "cell_type": "markdown",
   "metadata": {},
   "source": [
    "### Additional cleaning\n",
    "\n",
    "Taking a closer look at the months column, there appears to be an erroneous row value in the loaded data, 24498. Let's remove that using pandas subsetting functionality to tidy up the dataset."
   ]
  },
  {
   "cell_type": "code",
   "execution_count": 9,
   "metadata": {},
   "outputs": [
    {
     "name": "stdout",
     "output_type": "stream",
     "text": [
      "['January' 'February' 'March' 'April' 'May' 'June' 'July' 'August'\n",
      " 'September' 'October' 'November' 'December' '24498']\n"
     ]
    }
   ],
   "source": [
    "# remove erreoneous month (24498)\n",
    "print(wiki.Month.unique())\n",
    "\n",
    "wiki = wiki[wiki['Month'] != '24498']"
   ]
  },
  {
   "cell_type": "markdown",
   "metadata": {},
   "source": [
    "## Analysis"
   ]
  },
  {
   "cell_type": "markdown",
   "metadata": {},
   "source": [
    "With cleaned data, we can now obtain a monthly total count of casualties and create a bar plot from this. We start by grouping rows in the dataframe by month, and then taking the mean value by month."
   ]
  },
  {
   "cell_type": "code",
   "execution_count": 10,
   "metadata": {},
   "outputs": [],
   "source": [
    "# do a groupby month taking the mean and subset by Nato figures\n",
    "nato_figs = wiki.groupby('Month').mean()['Nato - official figures'] "
   ]
  },
  {
   "cell_type": "code",
   "execution_count": 11,
   "metadata": {},
   "outputs": [],
   "source": [
    "nato_figs = nato_figs.to_frame().reset_index()"
   ]
  },
  {
   "cell_type": "code",
   "execution_count": 12,
   "metadata": {},
   "outputs": [
    {
     "name": "stderr",
     "output_type": "stream",
     "text": [
      "/Users/dani/anaconda/envs/gds/lib/python3.6/site-packages/seaborn/categorical.py:3666: UserWarning: The `factorplot` function has been renamed to `catplot`. The original name will be removed in a future release. Please update your code. Note that the default `kind` in `factorplot` (`'point'`) has changed `'strip'` in `catplot`.\n",
      "  warnings.warn(msg)\n"
     ]
    },
    {
     "data": {
      "image/png": "[encoded data removed]",
      "text/plain": [
       "<Figure size 360x360 with 1 Axes>"
      ]
     },
     "metadata": {
      "needs_background": "light"
     },
     "output_type": "display_data"
    }
   ],
   "source": [
    "g = sns.factorplot('Month', 'Nato - official figures', data=nato_figs, \\\n",
    "              kind='bar')\n",
    "\n",
    "g.set_xticklabels(rotation=45);"
   ]
  }
 ],
 "metadata": {
  "kernelspec": {
   "display_name": "Python 3",
   "language": "python",
   "name": "python3"
  },
  "language_info": {
   "codemirror_mode": {
    "name": "ipython",
    "version": 3
   },
   "file_extension": ".py",
   "mimetype": "text/x-python",
   "name": "python",
   "nbconvert_exporter": "python",
   "pygments_lexer": "ipython3",
   "version": "3.6.6"
  }
 },
 "nbformat": 4,
 "nbformat_minor": 2
}
