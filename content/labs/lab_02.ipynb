{
 "cells": [
  {
   "cell_type": "markdown",
   "metadata": {},
   "source": [
    "# Geographic Data Science - Lab 02\n",
    "\n",
    "[Dani Arribas-Bel](http://darribas.org)\n",
    "\n",
    "\n",
    "This notebook elaborates on the previous session and shows some more advanced tricks that will allow you to perform data cleaning and processing in cases where the original source data used are not made available ready for analysis (as we did in the previous session). In particular, we will show how you can transform data downloaded from the internet into the table you used to explore population patterns in Liverpool.\n",
    "\n",
    "Before anything, let us import the libraries we will need:"
   ]
  },
  {
   "cell_type": "code",
   "execution_count": 1,
   "metadata": {
    "collapsed": true
   },
   "outputs": [],
   "source": [
    "# This ensures visualizations are plotted inside the notebook\n",
    "%matplotlib inline\n",
    "\n",
    "import os              # This provides several system utilities\n",
    "import pandas as pd    # This is the workhorse of data munging in Python\n",
    "import seaborn as sns  # This allows us to easily and beautifully plot"
   ]
  },
  {
   "cell_type": "markdown",
   "metadata": {},
   "source": [
    "### The Liverpool Census Data Pack\n",
    "\n",
    "Throughout this notebook (and later on as well), we will use the [CDRC](http://cdrc.ac.uk/)'s Census Data Pack for the city of Liverpool ([link](https://data.cdrc.ac.uk/dataset/cdrc-2011-census-data-packs-for-local-authority-district-liverpool-e08000012)) and explore some of the city's socio-demogaphic characteristics. This is a large package crafted by the CDRC that brings together several Census tables in a consistent way for the city of Liverpool. We will only be able to use just a few of them but, since they are consistently organized, the procedure used should teach you how to explore other variables on your own. In particular, in this session, we will be using a table that lists **population by country of birth**.\n",
    "\n",
    "The pack is composed of two types of data: tabular and spatial. Tabular data are numerical tables that contain information relating to many socio-economic variables for different units (areas); spatial data contains the geometries of the areas in which Liverpool is divided into. Since there are many variables contained in several tables, that can be linked to more than one geography, the pack also includes two \"compass files\" that help you find what you are looking for: one table that lists and describes the different datasets available; and a much more detailed table that lists and describes each and every single variable available in the pack.\n",
    "\n",
    "The remainder assumes you have downloaded and unpacked the data. \n",
    "\n",
    "**IMPORTANT**: if you are working on a university lab computer, make sure to store the downloaded files (as well as the notebook) in the `M:` drive. This will ensure it is safe and does not get erased.\n",
    "\n",
    "Specify the path to the folder in the following cell, so you can correctly run the code without errors:"
   ]
  },
  {
   "cell_type": "code",
   "execution_count": 2,
   "metadata": {},
   "outputs": [
    {
     "data": {
      "text/plain": [
       "['readme.txt',\n",
       " 'metadata.xml',\n",
       " 'variables_description.csv',\n",
       " 'datasets_description.csv',\n",
       " 'tables',\n",
       " 'shapefiles']"
      ]
     },
     "execution_count": 2,
     "metadata": {},
     "output_type": "execute_result"
    }
   ],
   "source": [
    "# Important! You need to specify the path to the data in *your* machine\n",
    "# If you have placed the data folder in the same directory as this notebook,\n",
    "# you would do:\n",
    "# path = 'Liverpool/'\n",
    "path = '../../../gds18_data/Liverpool/'\n",
    "\n",
    "# Check to see if the path is correct and works. If you have set it \n",
    "# correctly, you should obtain the following list\n",
    "os.listdir(path)"
   ]
  },
  {
   "cell_type": "markdown",
   "metadata": {},
   "source": [
    "### Creating the table from the previous notebook\n",
    "\n",
    "It is not only that data are not ready to analyze when you get a hold on them. Sometimes, there is not such thing as *the dataset* to analyze. Instead, what you have is a collection of separated files, sometimes with different structures, that you need to bring together to begin with. This is one of the areas where a bit of scripting skills can help you a long way. While in a traditional point-and-click program like Microsoft Excel or SPSS, you would have to repeat the steps every time you wanted to incorporate a new dataset, with a bit of Python ninja tricks, you can write code that will do it for you as many times as you need.\n",
    "\n",
    "We will begin jumping straight into the analysis of population in Liverpool, organized by country of birth, at the Local Super Output Area (LSOA) level. Because the Census Data Pack contains a lot of data and very many different tables, you will have to bear with us and trust that what we are extracting is exactly the data of interest. This will speed up the process to walk through the reading, processing and manipulating of a dataset. Once you are familiar with these skills, the final section goes into how to explore the entire pack with more detail.\n",
    "\n",
    "To read a \"comma separated values\" (`.csv`) file, we can run:"
   ]
  },
  {
   "cell_type": "code",
   "execution_count": 3,
   "metadata": {},
   "outputs": [
    {
     "data": {
      "text/html": [
       "<div>\n",
       "<style scoped>\n",
       "    .dataframe tbody tr th:only-of-type {\n",
       "        vertical-align: middle;\n",
       "    }\n",
       "\n",
       "    .dataframe tbody tr th {\n",
       "        vertical-align: top;\n",
       "    }\n",
       "\n",
       "    .dataframe thead th {\n",
       "        text-align: right;\n",
       "    }\n",
       "</style>\n",
       "<table border=\"1\" class=\"dataframe\">\n",
       "  <thead>\n",
       "    <tr style=\"text-align: right;\">\n",
       "      <th></th>\n",
       "      <th>QS203EW0001</th>\n",
       "      <th>QS203EW0002</th>\n",
       "      <th>QS203EW0003</th>\n",
       "      <th>QS203EW0004</th>\n",
       "      <th>QS203EW0005</th>\n",
       "      <th>QS203EW0006</th>\n",
       "      <th>QS203EW0007</th>\n",
       "      <th>QS203EW0008</th>\n",
       "      <th>QS203EW0009</th>\n",
       "      <th>QS203EW0010</th>\n",
       "      <th>...</th>\n",
       "      <th>QS203EW0069</th>\n",
       "      <th>QS203EW0070</th>\n",
       "      <th>QS203EW0071</th>\n",
       "      <th>QS203EW0072</th>\n",
       "      <th>QS203EW0073</th>\n",
       "      <th>QS203EW0074</th>\n",
       "      <th>QS203EW0075</th>\n",
       "      <th>QS203EW0076</th>\n",
       "      <th>QS203EW0077</th>\n",
       "      <th>QS203EW0078</th>\n",
       "    </tr>\n",
       "    <tr>\n",
       "      <th>GeographyCode</th>\n",
       "      <th></th>\n",
       "      <th></th>\n",
       "      <th></th>\n",
       "      <th></th>\n",
       "      <th></th>\n",
       "      <th></th>\n",
       "      <th></th>\n",
       "      <th></th>\n",
       "      <th></th>\n",
       "      <th></th>\n",
       "      <th></th>\n",
       "      <th></th>\n",
       "      <th></th>\n",
       "      <th></th>\n",
       "      <th></th>\n",
       "      <th></th>\n",
       "      <th></th>\n",
       "      <th></th>\n",
       "      <th></th>\n",
       "      <th></th>\n",
       "      <th></th>\n",
       "    </tr>\n",
       "  </thead>\n",
       "  <tbody>\n",
       "    <tr>\n",
       "      <th>E01006512</th>\n",
       "      <td>1880</td>\n",
       "      <td>910</td>\n",
       "      <td>766</td>\n",
       "      <td>699</td>\n",
       "      <td>26</td>\n",
       "      <td>21</td>\n",
       "      <td>20</td>\n",
       "      <td>0</td>\n",
       "      <td>0</td>\n",
       "      <td>0</td>\n",
       "      <td>...</td>\n",
       "      <td>5</td>\n",
       "      <td>0</td>\n",
       "      <td>5</td>\n",
       "      <td>0</td>\n",
       "      <td>0</td>\n",
       "      <td>0</td>\n",
       "      <td>0</td>\n",
       "      <td>0</td>\n",
       "      <td>0</td>\n",
       "      <td>0</td>\n",
       "    </tr>\n",
       "    <tr>\n",
       "      <th>E01006513</th>\n",
       "      <td>2941</td>\n",
       "      <td>2225</td>\n",
       "      <td>2033</td>\n",
       "      <td>1806</td>\n",
       "      <td>98</td>\n",
       "      <td>28</td>\n",
       "      <td>101</td>\n",
       "      <td>0</td>\n",
       "      <td>0</td>\n",
       "      <td>0</td>\n",
       "      <td>...</td>\n",
       "      <td>5</td>\n",
       "      <td>1</td>\n",
       "      <td>4</td>\n",
       "      <td>7</td>\n",
       "      <td>0</td>\n",
       "      <td>7</td>\n",
       "      <td>6</td>\n",
       "      <td>1</td>\n",
       "      <td>0</td>\n",
       "      <td>0</td>\n",
       "    </tr>\n",
       "    <tr>\n",
       "      <th>E01006514</th>\n",
       "      <td>2108</td>\n",
       "      <td>1786</td>\n",
       "      <td>1632</td>\n",
       "      <td>1503</td>\n",
       "      <td>44</td>\n",
       "      <td>18</td>\n",
       "      <td>67</td>\n",
       "      <td>0</td>\n",
       "      <td>0</td>\n",
       "      <td>0</td>\n",
       "      <td>...</td>\n",
       "      <td>19</td>\n",
       "      <td>2</td>\n",
       "      <td>17</td>\n",
       "      <td>5</td>\n",
       "      <td>0</td>\n",
       "      <td>4</td>\n",
       "      <td>2</td>\n",
       "      <td>2</td>\n",
       "      <td>1</td>\n",
       "      <td>0</td>\n",
       "    </tr>\n",
       "    <tr>\n",
       "      <th>E01006515</th>\n",
       "      <td>1208</td>\n",
       "      <td>974</td>\n",
       "      <td>910</td>\n",
       "      <td>877</td>\n",
       "      <td>16</td>\n",
       "      <td>5</td>\n",
       "      <td>12</td>\n",
       "      <td>0</td>\n",
       "      <td>0</td>\n",
       "      <td>0</td>\n",
       "      <td>...</td>\n",
       "      <td>4</td>\n",
       "      <td>2</td>\n",
       "      <td>2</td>\n",
       "      <td>2</td>\n",
       "      <td>0</td>\n",
       "      <td>2</td>\n",
       "      <td>2</td>\n",
       "      <td>0</td>\n",
       "      <td>0</td>\n",
       "      <td>0</td>\n",
       "    </tr>\n",
       "    <tr>\n",
       "      <th>E01006518</th>\n",
       "      <td>1696</td>\n",
       "      <td>1531</td>\n",
       "      <td>1468</td>\n",
       "      <td>1446</td>\n",
       "      <td>7</td>\n",
       "      <td>6</td>\n",
       "      <td>9</td>\n",
       "      <td>0</td>\n",
       "      <td>0</td>\n",
       "      <td>0</td>\n",
       "      <td>...</td>\n",
       "      <td>3</td>\n",
       "      <td>0</td>\n",
       "      <td>3</td>\n",
       "      <td>4</td>\n",
       "      <td>0</td>\n",
       "      <td>4</td>\n",
       "      <td>4</td>\n",
       "      <td>0</td>\n",
       "      <td>0</td>\n",
       "      <td>0</td>\n",
       "    </tr>\n",
       "  </tbody>\n",
       "</table>\n",
       "<p>5 rows × 78 columns</p>\n",
       "</div>"
      ],
      "text/plain": [
       "               QS203EW0001  QS203EW0002  QS203EW0003  QS203EW0004  \\\n",
       "GeographyCode                                                       \n",
       "E01006512             1880          910          766          699   \n",
       "E01006513             2941         2225         2033         1806   \n",
       "E01006514             2108         1786         1632         1503   \n",
       "E01006515             1208          974          910          877   \n",
       "E01006518             1696         1531         1468         1446   \n",
       "\n",
       "               QS203EW0005  QS203EW0006  QS203EW0007  QS203EW0008  \\\n",
       "GeographyCode                                                       \n",
       "E01006512               26           21           20            0   \n",
       "E01006513               98           28          101            0   \n",
       "E01006514               44           18           67            0   \n",
       "E01006515               16            5           12            0   \n",
       "E01006518                7            6            9            0   \n",
       "\n",
       "               QS203EW0009  QS203EW0010     ...       QS203EW0069  \\\n",
       "GeographyCode                               ...                     \n",
       "E01006512                0            0     ...                 5   \n",
       "E01006513                0            0     ...                 5   \n",
       "E01006514                0            0     ...                19   \n",
       "E01006515                0            0     ...                 4   \n",
       "E01006518                0            0     ...                 3   \n",
       "\n",
       "               QS203EW0070  QS203EW0071  QS203EW0072  QS203EW0073  \\\n",
       "GeographyCode                                                       \n",
       "E01006512                0            5            0            0   \n",
       "E01006513                1            4            7            0   \n",
       "E01006514                2           17            5            0   \n",
       "E01006515                2            2            2            0   \n",
       "E01006518                0            3            4            0   \n",
       "\n",
       "               QS203EW0074  QS203EW0075  QS203EW0076  QS203EW0077  QS203EW0078  \n",
       "GeographyCode                                                                   \n",
       "E01006512                0            0            0            0            0  \n",
       "E01006513                7            6            1            0            0  \n",
       "E01006514                4            2            2            1            0  \n",
       "E01006515                2            2            0            0            0  \n",
       "E01006518                4            4            0            0            0  \n",
       "\n",
       "[5 rows x 78 columns]"
      ]
     },
     "execution_count": 3,
     "metadata": {},
     "output_type": "execute_result"
    }
   ],
   "source": [
    "lsoa_orig = pd.read_csv(path+'tables/QS203EW_lsoa11.csv', index_col='GeographyCode')\n",
    "lsoa_orig.head()"
   ]
  },
  {
   "cell_type": "markdown",
   "metadata": {},
   "source": [
    "Before we continue with the data, let us have a look at the object `lsoa_orig`. It is a different \"animal\" than we have seen so far:"
   ]
  },
  {
   "cell_type": "code",
   "execution_count": 4,
   "metadata": {},
   "outputs": [
    {
     "data": {
      "text/plain": [
       "pandas.core.frame.DataFrame"
      ]
     },
     "execution_count": 4,
     "metadata": {},
     "output_type": "execute_result"
    }
   ],
   "source": [
    "type(lsoa_orig)"
   ]
  },
  {
   "cell_type": "markdown",
   "metadata": {},
   "source": [
    "It is a \"pandas data frame\". Similar to R's \"data.frame\" class, it is one of the most essential data structures in Python for data analysis, and we will use it intensively. Data frames are sophisticated costructs that can perform several advanced tasks and have many properties. We will be discovering them as we progress on the course but, for now, let us keep in mind they are tables, indexed on rows and columns that can support mixed data types and can be flexibly manipulated.\n",
    "\n",
    "Now we have read the file, we can inspect it. For example, to show the first lines of the table:"
   ]
  },
  {
   "cell_type": "code",
   "execution_count": 5,
   "metadata": {},
   "outputs": [
    {
     "data": {
      "text/html": [
       "<div>\n",
       "<style scoped>\n",
       "    .dataframe tbody tr th:only-of-type {\n",
       "        vertical-align: middle;\n",
       "    }\n",
       "\n",
       "    .dataframe tbody tr th {\n",
       "        vertical-align: top;\n",
       "    }\n",
       "\n",
       "    .dataframe thead th {\n",
       "        text-align: right;\n",
       "    }\n",
       "</style>\n",
       "<table border=\"1\" class=\"dataframe\">\n",
       "  <thead>\n",
       "    <tr style=\"text-align: right;\">\n",
       "      <th></th>\n",
       "      <th>QS203EW0001</th>\n",
       "      <th>QS203EW0002</th>\n",
       "      <th>QS203EW0003</th>\n",
       "      <th>QS203EW0004</th>\n",
       "      <th>QS203EW0005</th>\n",
       "      <th>QS203EW0006</th>\n",
       "      <th>QS203EW0007</th>\n",
       "      <th>QS203EW0008</th>\n",
       "      <th>QS203EW0009</th>\n",
       "      <th>QS203EW0010</th>\n",
       "      <th>...</th>\n",
       "      <th>QS203EW0069</th>\n",
       "      <th>QS203EW0070</th>\n",
       "      <th>QS203EW0071</th>\n",
       "      <th>QS203EW0072</th>\n",
       "      <th>QS203EW0073</th>\n",
       "      <th>QS203EW0074</th>\n",
       "      <th>QS203EW0075</th>\n",
       "      <th>QS203EW0076</th>\n",
       "      <th>QS203EW0077</th>\n",
       "      <th>QS203EW0078</th>\n",
       "    </tr>\n",
       "    <tr>\n",
       "      <th>GeographyCode</th>\n",
       "      <th></th>\n",
       "      <th></th>\n",
       "      <th></th>\n",
       "      <th></th>\n",
       "      <th></th>\n",
       "      <th></th>\n",
       "      <th></th>\n",
       "      <th></th>\n",
       "      <th></th>\n",
       "      <th></th>\n",
       "      <th></th>\n",
       "      <th></th>\n",
       "      <th></th>\n",
       "      <th></th>\n",
       "      <th></th>\n",
       "      <th></th>\n",
       "      <th></th>\n",
       "      <th></th>\n",
       "      <th></th>\n",
       "      <th></th>\n",
       "      <th></th>\n",
       "    </tr>\n",
       "  </thead>\n",
       "  <tbody>\n",
       "    <tr>\n",
       "      <th>E01006512</th>\n",
       "      <td>1880</td>\n",
       "      <td>910</td>\n",
       "      <td>766</td>\n",
       "      <td>699</td>\n",
       "      <td>26</td>\n",
       "      <td>21</td>\n",
       "      <td>20</td>\n",
       "      <td>0</td>\n",
       "      <td>0</td>\n",
       "      <td>0</td>\n",
       "      <td>...</td>\n",
       "      <td>5</td>\n",
       "      <td>0</td>\n",
       "      <td>5</td>\n",
       "      <td>0</td>\n",
       "      <td>0</td>\n",
       "      <td>0</td>\n",
       "      <td>0</td>\n",
       "      <td>0</td>\n",
       "      <td>0</td>\n",
       "      <td>0</td>\n",
       "    </tr>\n",
       "    <tr>\n",
       "      <th>E01006513</th>\n",
       "      <td>2941</td>\n",
       "      <td>2225</td>\n",
       "      <td>2033</td>\n",
       "      <td>1806</td>\n",
       "      <td>98</td>\n",
       "      <td>28</td>\n",
       "      <td>101</td>\n",
       "      <td>0</td>\n",
       "      <td>0</td>\n",
       "      <td>0</td>\n",
       "      <td>...</td>\n",
       "      <td>5</td>\n",
       "      <td>1</td>\n",
       "      <td>4</td>\n",
       "      <td>7</td>\n",
       "      <td>0</td>\n",
       "      <td>7</td>\n",
       "      <td>6</td>\n",
       "      <td>1</td>\n",
       "      <td>0</td>\n",
       "      <td>0</td>\n",
       "    </tr>\n",
       "    <tr>\n",
       "      <th>E01006514</th>\n",
       "      <td>2108</td>\n",
       "      <td>1786</td>\n",
       "      <td>1632</td>\n",
       "      <td>1503</td>\n",
       "      <td>44</td>\n",
       "      <td>18</td>\n",
       "      <td>67</td>\n",
       "      <td>0</td>\n",
       "      <td>0</td>\n",
       "      <td>0</td>\n",
       "      <td>...</td>\n",
       "      <td>19</td>\n",
       "      <td>2</td>\n",
       "      <td>17</td>\n",
       "      <td>5</td>\n",
       "      <td>0</td>\n",
       "      <td>4</td>\n",
       "      <td>2</td>\n",
       "      <td>2</td>\n",
       "      <td>1</td>\n",
       "      <td>0</td>\n",
       "    </tr>\n",
       "    <tr>\n",
       "      <th>E01006515</th>\n",
       "      <td>1208</td>\n",
       "      <td>974</td>\n",
       "      <td>910</td>\n",
       "      <td>877</td>\n",
       "      <td>16</td>\n",
       "      <td>5</td>\n",
       "      <td>12</td>\n",
       "      <td>0</td>\n",
       "      <td>0</td>\n",
       "      <td>0</td>\n",
       "      <td>...</td>\n",
       "      <td>4</td>\n",
       "      <td>2</td>\n",
       "      <td>2</td>\n",
       "      <td>2</td>\n",
       "      <td>0</td>\n",
       "      <td>2</td>\n",
       "      <td>2</td>\n",
       "      <td>0</td>\n",
       "      <td>0</td>\n",
       "      <td>0</td>\n",
       "    </tr>\n",
       "    <tr>\n",
       "      <th>E01006518</th>\n",
       "      <td>1696</td>\n",
       "      <td>1531</td>\n",
       "      <td>1468</td>\n",
       "      <td>1446</td>\n",
       "      <td>7</td>\n",
       "      <td>6</td>\n",
       "      <td>9</td>\n",
       "      <td>0</td>\n",
       "      <td>0</td>\n",
       "      <td>0</td>\n",
       "      <td>...</td>\n",
       "      <td>3</td>\n",
       "      <td>0</td>\n",
       "      <td>3</td>\n",
       "      <td>4</td>\n",
       "      <td>0</td>\n",
       "      <td>4</td>\n",
       "      <td>4</td>\n",
       "      <td>0</td>\n",
       "      <td>0</td>\n",
       "      <td>0</td>\n",
       "    </tr>\n",
       "  </tbody>\n",
       "</table>\n",
       "<p>5 rows × 78 columns</p>\n",
       "</div>"
      ],
      "text/plain": [
       "               QS203EW0001  QS203EW0002  QS203EW0003  QS203EW0004  \\\n",
       "GeographyCode                                                       \n",
       "E01006512             1880          910          766          699   \n",
       "E01006513             2941         2225         2033         1806   \n",
       "E01006514             2108         1786         1632         1503   \n",
       "E01006515             1208          974          910          877   \n",
       "E01006518             1696         1531         1468         1446   \n",
       "\n",
       "               QS203EW0005  QS203EW0006  QS203EW0007  QS203EW0008  \\\n",
       "GeographyCode                                                       \n",
       "E01006512               26           21           20            0   \n",
       "E01006513               98           28          101            0   \n",
       "E01006514               44           18           67            0   \n",
       "E01006515               16            5           12            0   \n",
       "E01006518                7            6            9            0   \n",
       "\n",
       "               QS203EW0009  QS203EW0010     ...       QS203EW0069  \\\n",
       "GeographyCode                               ...                     \n",
       "E01006512                0            0     ...                 5   \n",
       "E01006513                0            0     ...                 5   \n",
       "E01006514                0            0     ...                19   \n",
       "E01006515                0            0     ...                 4   \n",
       "E01006518                0            0     ...                 3   \n",
       "\n",
       "               QS203EW0070  QS203EW0071  QS203EW0072  QS203EW0073  \\\n",
       "GeographyCode                                                       \n",
       "E01006512                0            5            0            0   \n",
       "E01006513                1            4            7            0   \n",
       "E01006514                2           17            5            0   \n",
       "E01006515                2            2            2            0   \n",
       "E01006518                0            3            4            0   \n",
       "\n",
       "               QS203EW0074  QS203EW0075  QS203EW0076  QS203EW0077  QS203EW0078  \n",
       "GeographyCode                                                                   \n",
       "E01006512                0            0            0            0            0  \n",
       "E01006513                7            6            1            0            0  \n",
       "E01006514                4            2            2            1            0  \n",
       "E01006515                2            2            0            0            0  \n",
       "E01006518                4            4            0            0            0  \n",
       "\n",
       "[5 rows x 78 columns]"
      ]
     },
     "execution_count": 5,
     "metadata": {},
     "output_type": "execute_result"
    }
   ],
   "source": [
    "lsoa_orig.head()"
   ]
  },
  {
   "cell_type": "markdown",
   "metadata": {},
   "source": [
    "Let us also quickly check the dimensions of the table:"
   ]
  },
  {
   "cell_type": "code",
   "execution_count": 6,
   "metadata": {},
   "outputs": [
    {
     "data": {
      "text/plain": [
       "(298, 78)"
      ]
     },
     "execution_count": 6,
     "metadata": {},
     "output_type": "execute_result"
    }
   ],
   "source": [
    "lsoa_orig.shape"
   ]
  },
  {
   "cell_type": "markdown",
   "metadata": {},
   "source": [
    "This implies 298 rows by 78 columns. That is a lot of columns, all named under obscure codes. For now, just trust that the columns we want are:"
   ]
  },
  {
   "cell_type": "code",
   "execution_count": 7,
   "metadata": {
    "collapsed": true
   },
   "outputs": [],
   "source": [
    "region_codes = ['QS203EW0002', 'QS203EW0032', 'QS203EW0045', \\\n",
    "                'QS203EW0063', 'QS203EW0072']"
   ]
  },
  {
   "cell_type": "markdown",
   "metadata": {},
   "source": [
    "To keep only those with us, we can *slice* the table using the `loc` operator:"
   ]
  },
  {
   "cell_type": "code",
   "execution_count": 8,
   "metadata": {},
   "outputs": [
    {
     "data": {
      "text/html": [
       "<div>\n",
       "<style scoped>\n",
       "    .dataframe tbody tr th:only-of-type {\n",
       "        vertical-align: middle;\n",
       "    }\n",
       "\n",
       "    .dataframe tbody tr th {\n",
       "        vertical-align: top;\n",
       "    }\n",
       "\n",
       "    .dataframe thead th {\n",
       "        text-align: right;\n",
       "    }\n",
       "</style>\n",
       "<table border=\"1\" class=\"dataframe\">\n",
       "  <thead>\n",
       "    <tr style=\"text-align: right;\">\n",
       "      <th></th>\n",
       "      <th>QS203EW0002</th>\n",
       "      <th>QS203EW0032</th>\n",
       "      <th>QS203EW0045</th>\n",
       "      <th>QS203EW0063</th>\n",
       "      <th>QS203EW0072</th>\n",
       "    </tr>\n",
       "    <tr>\n",
       "      <th>GeographyCode</th>\n",
       "      <th></th>\n",
       "      <th></th>\n",
       "      <th></th>\n",
       "      <th></th>\n",
       "      <th></th>\n",
       "    </tr>\n",
       "  </thead>\n",
       "  <tbody>\n",
       "    <tr>\n",
       "      <th>E01006512</th>\n",
       "      <td>910</td>\n",
       "      <td>106</td>\n",
       "      <td>840</td>\n",
       "      <td>24</td>\n",
       "      <td>0</td>\n",
       "    </tr>\n",
       "    <tr>\n",
       "      <th>E01006513</th>\n",
       "      <td>2225</td>\n",
       "      <td>61</td>\n",
       "      <td>595</td>\n",
       "      <td>53</td>\n",
       "      <td>7</td>\n",
       "    </tr>\n",
       "    <tr>\n",
       "      <th>E01006514</th>\n",
       "      <td>1786</td>\n",
       "      <td>63</td>\n",
       "      <td>193</td>\n",
       "      <td>61</td>\n",
       "      <td>5</td>\n",
       "    </tr>\n",
       "    <tr>\n",
       "      <th>E01006515</th>\n",
       "      <td>974</td>\n",
       "      <td>29</td>\n",
       "      <td>185</td>\n",
       "      <td>18</td>\n",
       "      <td>2</td>\n",
       "    </tr>\n",
       "    <tr>\n",
       "      <th>E01006518</th>\n",
       "      <td>1531</td>\n",
       "      <td>69</td>\n",
       "      <td>73</td>\n",
       "      <td>19</td>\n",
       "      <td>4</td>\n",
       "    </tr>\n",
       "  </tbody>\n",
       "</table>\n",
       "</div>"
      ],
      "text/plain": [
       "               QS203EW0002  QS203EW0032  QS203EW0045  QS203EW0063  QS203EW0072\n",
       "GeographyCode                                                                 \n",
       "E01006512              910          106          840           24            0\n",
       "E01006513             2225           61          595           53            7\n",
       "E01006514             1786           63          193           61            5\n",
       "E01006515              974           29          185           18            2\n",
       "E01006518             1531           69           73           19            4"
      ]
     },
     "execution_count": 8,
     "metadata": {},
     "output_type": "execute_result"
    }
   ],
   "source": [
    "# Select only the columns with names in the list `region_codes`\n",
    "lsoa_orig_sub = lsoa_orig.loc[:, region_codes]\n",
    "\n",
    "lsoa_orig_sub.head()"
   ]
  },
  {
   "cell_type": "markdown",
   "metadata": {},
   "source": [
    "Note how we use the operator `loc` (for locator) on the dataframe, followed by squared brackets and, inside it, two alternatives: \n",
    "\n",
    "* We can use `:` to keep *all* the elements (rows in this case).\n",
    "* And we can use a list of strings (or simply one would work too) with the names what we want to select.\n",
    "\n",
    "We can further inspect the dataset with an additional command called `info`, that lists the names of the columns and how many non-null elements each contains:"
   ]
  },
  {
   "cell_type": "code",
   "execution_count": 9,
   "metadata": {},
   "outputs": [
    {
     "name": "stdout",
     "output_type": "stream",
     "text": [
      "<class 'pandas.core.frame.DataFrame'>\n",
      "Index: 298 entries, E01006512 to E01033768\n",
      "Data columns (total 5 columns):\n",
      "QS203EW0002    298 non-null int64\n",
      "QS203EW0032    298 non-null int64\n",
      "QS203EW0045    298 non-null int64\n",
      "QS203EW0063    298 non-null int64\n",
      "QS203EW0072    298 non-null int64\n",
      "dtypes: int64(5)\n",
      "memory usage: 14.0+ KB\n"
     ]
    }
   ],
   "source": [
    "lsoa_orig_sub.info()"
   ]
  },
  {
   "cell_type": "markdown",
   "metadata": {},
   "source": [
    "---\n",
    "\n",
    "**[Renaming columns]**\n",
    "\n",
    "**IMPORTANT**: some of the elemnts in this part are more advanced hence optional. If you want to move quickly through the lab, simply run the code cells without paying much attention to what it does. Once you have become more familiar with the rest of the tutorial, return here and work through the logic.\n",
    "\n",
    "The table we have compiled contains exactly what we wanted. However, the names of the columns are a bit unintuitive, to say the least. It would be much handier if we could rename the columns into something more human readable. The easiest way to do that in `pandas` is by creating a dictionary that maps the original name into the desired one, and then applying it to the `DataFrame` with the command `rename`. Let us walk through the steps necessary, one by one:\n",
    "\n",
    "* Create a dictionary that maps the codes to the names. For this, we can use the list we have created before (`region_variables`), and what we have learnt about querying tables, combined with a small `for` loop.\n",
    "\n",
    "First we need to bring up the variable names into a separate table (see the final section for more detail):"
   ]
  },
  {
   "cell_type": "code",
   "execution_count": 10,
   "metadata": {
    "collapsed": true
   },
   "outputs": [],
   "source": [
    "# Read file with variable descriptions\n",
    "variables = pd.read_csv(path+'variables_description.csv', index_col=0)"
   ]
  },
  {
   "cell_type": "code",
   "execution_count": 11,
   "metadata": {},
   "outputs": [
    {
     "data": {
      "text/plain": [
       "{'QS203EW0002': 'Europe: Total',\n",
       " 'QS203EW0032': 'Africa: Total',\n",
       " 'QS203EW0045': 'Middle East and Asia: Total',\n",
       " 'QS203EW0063': 'The Americas and the Caribbean: Total',\n",
       " 'QS203EW0072': 'Antarctica and Oceania: Total'}"
      ]
     },
     "execution_count": 11,
     "metadata": {},
     "output_type": "execute_result"
    }
   ],
   "source": [
    "# Create a \"dictionary\" to store names of the variables\n",
    "# and their description\n",
    "code2name = {}\n",
    "# Set the index to be the code of each variable\n",
    "lookup_table = variables.set_index('ColumnVariableCode') # Reindex to be able to query\n",
    "# Run over every region code, select its description/name and store it \n",
    "# in the `code2name` dictionary\n",
    "for code in region_codes:\n",
    "    code2name[code] = lookup_table.loc[code, 'ColumnVariableDescription']\n",
    "code2name"
   ]
  },
  {
   "cell_type": "markdown",
   "metadata": {},
   "source": [
    "* Because we know that each of these variables are totals for each group, we can further declutter the names by removing the piece of the string `\": Total\"`. A simple loop can help us:"
   ]
  },
  {
   "cell_type": "code",
   "execution_count": 12,
   "metadata": {},
   "outputs": [
    {
     "data": {
      "text/plain": [
       "{'QS203EW0002': 'Europe',\n",
       " 'QS203EW0032': 'Africa',\n",
       " 'QS203EW0045': 'Middle East and Asia',\n",
       " 'QS203EW0063': 'The Americas and the Caribbean',\n",
       " 'QS203EW0072': 'Antarctica and Oceania'}"
      ]
     },
     "execution_count": 12,
     "metadata": {},
     "output_type": "execute_result"
    }
   ],
   "source": [
    "# Loop over every code in the `code2name` dictionary and chop off\n",
    "# \": Total\" so the name is shorter and neater\n",
    "for code in code2name:\n",
    "    code2name[code] = code2name[code].replace(': Total', '')\n",
    "code2name"
   ]
  },
  {
   "cell_type": "markdown",
   "metadata": {},
   "source": [
    "* With the dictionary in hand, renaming the columns is as easy as:"
   ]
  },
  {
   "cell_type": "code",
   "execution_count": 13,
   "metadata": {},
   "outputs": [
    {
     "data": {
      "text/html": [
       "<div>\n",
       "<style scoped>\n",
       "    .dataframe tbody tr th:only-of-type {\n",
       "        vertical-align: middle;\n",
       "    }\n",
       "\n",
       "    .dataframe tbody tr th {\n",
       "        vertical-align: top;\n",
       "    }\n",
       "\n",
       "    .dataframe thead th {\n",
       "        text-align: right;\n",
       "    }\n",
       "</style>\n",
       "<table border=\"1\" class=\"dataframe\">\n",
       "  <thead>\n",
       "    <tr style=\"text-align: right;\">\n",
       "      <th></th>\n",
       "      <th>Europe</th>\n",
       "      <th>Africa</th>\n",
       "      <th>Middle East and Asia</th>\n",
       "      <th>The Americas and the Caribbean</th>\n",
       "      <th>Antarctica and Oceania</th>\n",
       "    </tr>\n",
       "    <tr>\n",
       "      <th>GeographyCode</th>\n",
       "      <th></th>\n",
       "      <th></th>\n",
       "      <th></th>\n",
       "      <th></th>\n",
       "      <th></th>\n",
       "    </tr>\n",
       "  </thead>\n",
       "  <tbody>\n",
       "    <tr>\n",
       "      <th>E01006512</th>\n",
       "      <td>910</td>\n",
       "      <td>106</td>\n",
       "      <td>840</td>\n",
       "      <td>24</td>\n",
       "      <td>0</td>\n",
       "    </tr>\n",
       "    <tr>\n",
       "      <th>E01006513</th>\n",
       "      <td>2225</td>\n",
       "      <td>61</td>\n",
       "      <td>595</td>\n",
       "      <td>53</td>\n",
       "      <td>7</td>\n",
       "    </tr>\n",
       "    <tr>\n",
       "      <th>E01006514</th>\n",
       "      <td>1786</td>\n",
       "      <td>63</td>\n",
       "      <td>193</td>\n",
       "      <td>61</td>\n",
       "      <td>5</td>\n",
       "    </tr>\n",
       "    <tr>\n",
       "      <th>E01006515</th>\n",
       "      <td>974</td>\n",
       "      <td>29</td>\n",
       "      <td>185</td>\n",
       "      <td>18</td>\n",
       "      <td>2</td>\n",
       "    </tr>\n",
       "    <tr>\n",
       "      <th>E01006518</th>\n",
       "      <td>1531</td>\n",
       "      <td>69</td>\n",
       "      <td>73</td>\n",
       "      <td>19</td>\n",
       "      <td>4</td>\n",
       "    </tr>\n",
       "  </tbody>\n",
       "</table>\n",
       "</div>"
      ],
      "text/plain": [
       "               Europe  Africa  Middle East and Asia  \\\n",
       "GeographyCode                                         \n",
       "E01006512         910     106                   840   \n",
       "E01006513        2225      61                   595   \n",
       "E01006514        1786      63                   193   \n",
       "E01006515         974      29                   185   \n",
       "E01006518        1531      69                    73   \n",
       "\n",
       "               The Americas and the Caribbean  Antarctica and Oceania  \n",
       "GeographyCode                                                          \n",
       "E01006512                                  24                       0  \n",
       "E01006513                                  53                       7  \n",
       "E01006514                                  61                       5  \n",
       "E01006515                                  18                       2  \n",
       "E01006518                                  19                       4  "
      ]
     },
     "execution_count": 13,
     "metadata": {},
     "output_type": "execute_result"
    }
   ],
   "source": [
    "# Rename each column in `lsoa_orig_sub` from its code to its name\n",
    "lsoa_orig_sub = lsoa_orig_sub.rename(columns=code2name)\n",
    "\n",
    "lsoa_orig_sub.head()"
   ]
  },
  {
   "cell_type": "markdown",
   "metadata": {},
   "source": [
    "And this is it! The table stored in `lsoa_orig_sub` is essentially the same as we played with in the previous session.\n",
    "\n",
    "## Delving deeper into the Census Data Pack\n",
    "\n",
    "We started this notebook assuming we already knew what variables in particular we wanted, out of the hundreds available on the Liverpool Census Data Pack. Unfortunately, that is not always the case, and sometimes  you have to explore an entire dataset by yourself to find what you are looking for. To dip your toes into the sea of the Census Data Pack, in this section we will walk through how to systematically identify a variable and extract it.\n",
    "\n",
    "The folder contains data at different scales. We will be using the Local Super Output Area (LSOAs). The folder is structured in the following way:"
   ]
  },
  {
   "cell_type": "code",
   "execution_count": 14,
   "metadata": {},
   "outputs": [
    {
     "data": {
      "text/plain": [
       "['readme.txt',\n",
       " 'metadata.xml',\n",
       " 'variables_description.csv',\n",
       " 'datasets_description.csv',\n",
       " 'tables',\n",
       " 'shapefiles']"
      ]
     },
     "execution_count": 14,
     "metadata": {},
     "output_type": "execute_result"
    }
   ],
   "source": [
    "# This command lists the files in the folder passed (`path` in this case)\n",
    "os.listdir(path)"
   ]
  },
  {
   "cell_type": "markdown",
   "metadata": {},
   "source": [
    "For now, we will ignore the spatial information contained in the folder `shapefiles` and focus on the `tables` one. If you have a peek at the folder, it contains many files. You can get their names into a Python list with the following command:"
   ]
  },
  {
   "cell_type": "code",
   "execution_count": 15,
   "metadata": {
    "collapsed": true
   },
   "outputs": [],
   "source": [
    "# Create a list with the names of all the tables available\n",
    "csvs = os.listdir(path + 'tables')"
   ]
  },
  {
   "cell_type": "markdown",
   "metadata": {},
   "source": [
    "And count them using the core fuction `len`, which returns the length of a list:"
   ]
  },
  {
   "cell_type": "code",
   "execution_count": 16,
   "metadata": {},
   "outputs": [
    {
     "data": {
      "text/plain": [
       "303"
      ]
     },
     "execution_count": 16,
     "metadata": {},
     "output_type": "execute_result"
    }
   ],
   "source": [
    "# Obtain the length of the list `csvs`\n",
    "len(csvs)"
   ]
  },
  {
   "cell_type": "markdown",
   "metadata": {},
   "source": [
    "That is right, 303 files! Luckily, to navigate that sea of seemingly non-sensical letters, there is a codebook that explains things a bit. You can open it with a text editor or a spreadsheet program but, since it is a `csv` file, we can also ingest it with Python:"
   ]
  },
  {
   "cell_type": "code",
   "execution_count": 17,
   "metadata": {
    "collapsed": true
   },
   "outputs": [],
   "source": [
    "# Load up the file and set the first column as index\n",
    "codebook = pd.read_csv(path + 'datasets_description.csv', index_col=0)"
   ]
  },
  {
   "cell_type": "markdown",
   "metadata": {},
   "source": [
    "\n",
    "Now we have read the file, we can inspect it. For example, to show the first lines of the table:"
   ]
  },
  {
   "cell_type": "code",
   "execution_count": 18,
   "metadata": {},
   "outputs": [
    {
     "data": {
      "text/html": [
       "<div>\n",
       "<style scoped>\n",
       "    .dataframe tbody tr th:only-of-type {\n",
       "        vertical-align: middle;\n",
       "    }\n",
       "\n",
       "    .dataframe tbody tr th {\n",
       "        vertical-align: top;\n",
       "    }\n",
       "\n",
       "    .dataframe thead th {\n",
       "        text-align: right;\n",
       "    }\n",
       "</style>\n",
       "<table border=\"1\" class=\"dataframe\">\n",
       "  <thead>\n",
       "    <tr style=\"text-align: right;\">\n",
       "      <th></th>\n",
       "      <th>DatasetTitle</th>\n",
       "    </tr>\n",
       "    <tr>\n",
       "      <th>DatasetId</th>\n",
       "      <th></th>\n",
       "    </tr>\n",
       "  </thead>\n",
       "  <tbody>\n",
       "    <tr>\n",
       "      <th>CT0010</th>\n",
       "      <td>Ethnic group write-ins</td>\n",
       "    </tr>\n",
       "    <tr>\n",
       "      <th>KS101EW</th>\n",
       "      <td>Usual resident population</td>\n",
       "    </tr>\n",
       "    <tr>\n",
       "      <th>KS102EW</th>\n",
       "      <td>Age structure</td>\n",
       "    </tr>\n",
       "    <tr>\n",
       "      <th>KS103EW</th>\n",
       "      <td>Marital and civil partnership status</td>\n",
       "    </tr>\n",
       "    <tr>\n",
       "      <th>KS104EW</th>\n",
       "      <td>Living arrangements</td>\n",
       "    </tr>\n",
       "  </tbody>\n",
       "</table>\n",
       "</div>"
      ],
      "text/plain": [
       "                                   DatasetTitle\n",
       "DatasetId                                      \n",
       "CT0010                   Ethnic group write-ins\n",
       "KS101EW               Usual resident population\n",
       "KS102EW                           Age structure\n",
       "KS103EW    Marital and civil partnership status\n",
       "KS104EW                     Living arrangements"
      ]
     },
     "execution_count": 18,
     "metadata": {},
     "output_type": "execute_result"
    }
   ],
   "source": [
    "codebook.head()"
   ]
  },
  {
   "cell_type": "markdown",
   "metadata": {},
   "source": [
    "You can use the index chosen to query rows. For example, if we want to see what dataset code `QS203EW` corresponds to:"
   ]
  },
  {
   "cell_type": "code",
   "execution_count": 19,
   "metadata": {},
   "outputs": [
    {
     "data": {
      "text/plain": [
       "'Country of birth (detailed)'"
      ]
     },
     "execution_count": 19,
     "metadata": {},
     "output_type": "execute_result"
    }
   ],
   "source": [
    "# Extract the value for the column `DatasetTitle` and the row `QS203EW`\n",
    "# This is effectively the name of the dataset with that code\n",
    "codebook.loc['QS203EW', 'DatasetTitle']"
   ]
  },
  {
   "cell_type": "markdown",
   "metadata": {},
   "source": [
    "If we want to see what that dataset contains, there is another file in the folder called `variables_description.csv` that has further information. We can bring it in the same way we did before and, again, we will index it using the first column of the table, the ID of the dataset where the variable belongs to:"
   ]
  },
  {
   "cell_type": "code",
   "execution_count": 20,
   "metadata": {
    "collapsed": true
   },
   "outputs": [],
   "source": [
    "variables = pd.read_csv(path+'variables_description.csv', index_col=0)"
   ]
  },
  {
   "cell_type": "markdown",
   "metadata": {},
   "source": [
    "To have a sense of how large it is, we can call its `shape` property, which returns the number of rows and columns, respectively:"
   ]
  },
  {
   "cell_type": "code",
   "execution_count": 21,
   "metadata": {},
   "outputs": [
    {
     "data": {
      "text/plain": [
       "(2563, 3)"
      ]
     },
     "execution_count": 21,
     "metadata": {},
     "output_type": "execute_result"
    }
   ],
   "source": [
    "# Get the dimensions of the table `variables`\n",
    "variables.shape"
   ]
  },
  {
   "cell_type": "markdown",
   "metadata": {},
   "source": [
    "2,563 different variables!!! Let us see what the structure of the table is:"
   ]
  },
  {
   "cell_type": "code",
   "execution_count": 22,
   "metadata": {},
   "outputs": [
    {
     "data": {
      "text/html": [
       "<div>\n",
       "<style scoped>\n",
       "    .dataframe tbody tr th:only-of-type {\n",
       "        vertical-align: middle;\n",
       "    }\n",
       "\n",
       "    .dataframe tbody tr th {\n",
       "        vertical-align: top;\n",
       "    }\n",
       "\n",
       "    .dataframe thead th {\n",
       "        text-align: right;\n",
       "    }\n",
       "</style>\n",
       "<table border=\"1\" class=\"dataframe\">\n",
       "  <thead>\n",
       "    <tr style=\"text-align: right;\">\n",
       "      <th></th>\n",
       "      <th>ColumnVariableCode</th>\n",
       "      <th>ColumnVariableMeasurementUnit</th>\n",
       "      <th>ColumnVariableDescription</th>\n",
       "    </tr>\n",
       "    <tr>\n",
       "      <th>DatasetId</th>\n",
       "      <th></th>\n",
       "      <th></th>\n",
       "      <th></th>\n",
       "    </tr>\n",
       "  </thead>\n",
       "  <tbody>\n",
       "    <tr>\n",
       "      <th>CT0010</th>\n",
       "      <td>CT00100001</td>\n",
       "      <td>Count</td>\n",
       "      <td>All categories: Ethnic group</td>\n",
       "    </tr>\n",
       "    <tr>\n",
       "      <th>CT0010</th>\n",
       "      <td>CT00100002</td>\n",
       "      <td>Count</td>\n",
       "      <td>English/Welsh/Scottish/Northern Irish/British</td>\n",
       "    </tr>\n",
       "    <tr>\n",
       "      <th>CT0010</th>\n",
       "      <td>CT00100003</td>\n",
       "      <td>Count</td>\n",
       "      <td>Irish</td>\n",
       "    </tr>\n",
       "    <tr>\n",
       "      <th>CT0010</th>\n",
       "      <td>CT00100004</td>\n",
       "      <td>Count</td>\n",
       "      <td>Gypsy or Irish Traveller</td>\n",
       "    </tr>\n",
       "    <tr>\n",
       "      <th>CT0010</th>\n",
       "      <td>CT00100005</td>\n",
       "      <td>Count</td>\n",
       "      <td>Other White</td>\n",
       "    </tr>\n",
       "  </tbody>\n",
       "</table>\n",
       "</div>"
      ],
      "text/plain": [
       "          ColumnVariableCode ColumnVariableMeasurementUnit  \\\n",
       "DatasetId                                                    \n",
       "CT0010            CT00100001                         Count   \n",
       "CT0010            CT00100002                         Count   \n",
       "CT0010            CT00100003                         Count   \n",
       "CT0010            CT00100004                         Count   \n",
       "CT0010            CT00100005                         Count   \n",
       "\n",
       "                               ColumnVariableDescription  \n",
       "DatasetId                                                 \n",
       "CT0010                      All categories: Ethnic group  \n",
       "CT0010     English/Welsh/Scottish/Northern Irish/British  \n",
       "CT0010                                             Irish  \n",
       "CT0010                          Gypsy or Irish Traveller  \n",
       "CT0010                                       Other White  "
      ]
     },
     "execution_count": 22,
     "metadata": {},
     "output_type": "execute_result"
    }
   ],
   "source": [
    "variables.head()"
   ]
  },
  {
   "cell_type": "markdown",
   "metadata": {},
   "source": [
    "If we are interested in exploring the country of birth (code `QS203EW`), we can subset the table using `loc` in a similar way as before. The only difference is that now we do not want to restrict the column to only one, so we use the colon `:` instead of a particular name, including thus *all* the columns. Let us also save the subset by assigning it to a new object, `birth_orig`:"
   ]
  },
  {
   "cell_type": "code",
   "execution_count": 23,
   "metadata": {},
   "outputs": [
    {
     "data": {
      "text/plain": [
       "(78, 3)"
      ]
     },
     "execution_count": 23,
     "metadata": {},
     "output_type": "execute_result"
    }
   ],
   "source": [
    "# Select all the column values for the row `QS203EW`\n",
    "birth_orig = variables.loc['QS203EW', :]\n",
    "\n",
    "birth_orig.shape"
   ]
  },
  {
   "cell_type": "markdown",
   "metadata": {},
   "source": [
    "To be clear, the table above contains all the variables that the dataset `QS203EW` is comprised of. This means that, for every row in this table, there is a column in the actual dataset which, for the LSOAs, is on the file `QS203EW_lsoa11.csv`, in the `tables` folder.\n",
    "\n",
    "This is still a lot. Arguably, to get a first sense of the data and start exploring it, we do not need every single disaggregation available. Let us look at the names and codes of the first 25 variables to see if we can spot any pattern that helps us simplify (note how we now use `:` first to indicate we want *all* the rows):"
   ]
  },
  {
   "cell_type": "code",
   "execution_count": 24,
   "metadata": {},
   "outputs": [
    {
     "data": {
      "text/html": [
       "<div>\n",
       "<style scoped>\n",
       "    .dataframe tbody tr th:only-of-type {\n",
       "        vertical-align: middle;\n",
       "    }\n",
       "\n",
       "    .dataframe tbody tr th {\n",
       "        vertical-align: top;\n",
       "    }\n",
       "\n",
       "    .dataframe thead th {\n",
       "        text-align: right;\n",
       "    }\n",
       "</style>\n",
       "<table border=\"1\" class=\"dataframe\">\n",
       "  <thead>\n",
       "    <tr style=\"text-align: right;\">\n",
       "      <th></th>\n",
       "      <th>ColumnVariableCode</th>\n",
       "      <th>ColumnVariableDescription</th>\n",
       "    </tr>\n",
       "    <tr>\n",
       "      <th>DatasetId</th>\n",
       "      <th></th>\n",
       "      <th></th>\n",
       "    </tr>\n",
       "  </thead>\n",
       "  <tbody>\n",
       "    <tr>\n",
       "      <th>QS203EW</th>\n",
       "      <td>QS203EW0001</td>\n",
       "      <td>All categories: Country of birth</td>\n",
       "    </tr>\n",
       "    <tr>\n",
       "      <th>QS203EW</th>\n",
       "      <td>QS203EW0002</td>\n",
       "      <td>Europe: Total</td>\n",
       "    </tr>\n",
       "    <tr>\n",
       "      <th>QS203EW</th>\n",
       "      <td>QS203EW0003</td>\n",
       "      <td>Europe: United Kingdom: Total</td>\n",
       "    </tr>\n",
       "    <tr>\n",
       "      <th>QS203EW</th>\n",
       "      <td>QS203EW0004</td>\n",
       "      <td>Europe: United Kingdom: England</td>\n",
       "    </tr>\n",
       "    <tr>\n",
       "      <th>QS203EW</th>\n",
       "      <td>QS203EW0005</td>\n",
       "      <td>Europe: United Kingdom: Northern Ireland</td>\n",
       "    </tr>\n",
       "    <tr>\n",
       "      <th>QS203EW</th>\n",
       "      <td>QS203EW0006</td>\n",
       "      <td>Europe: United Kingdom: Scotland</td>\n",
       "    </tr>\n",
       "    <tr>\n",
       "      <th>QS203EW</th>\n",
       "      <td>QS203EW0007</td>\n",
       "      <td>Europe: United Kingdom: Wales</td>\n",
       "    </tr>\n",
       "    <tr>\n",
       "      <th>QS203EW</th>\n",
       "      <td>QS203EW0008</td>\n",
       "      <td>Europe: Great Britain not otherwise specified</td>\n",
       "    </tr>\n",
       "    <tr>\n",
       "      <th>QS203EW</th>\n",
       "      <td>QS203EW0009</td>\n",
       "      <td>Europe: United Kingdom not otherwise specified</td>\n",
       "    </tr>\n",
       "    <tr>\n",
       "      <th>QS203EW</th>\n",
       "      <td>QS203EW0010</td>\n",
       "      <td>Europe: Guernsey</td>\n",
       "    </tr>\n",
       "    <tr>\n",
       "      <th>QS203EW</th>\n",
       "      <td>QS203EW0011</td>\n",
       "      <td>Europe: Jersey</td>\n",
       "    </tr>\n",
       "    <tr>\n",
       "      <th>QS203EW</th>\n",
       "      <td>QS203EW0012</td>\n",
       "      <td>Europe: Channel Islands not otherwise specified</td>\n",
       "    </tr>\n",
       "    <tr>\n",
       "      <th>QS203EW</th>\n",
       "      <td>QS203EW0013</td>\n",
       "      <td>Europe: Isle of Man</td>\n",
       "    </tr>\n",
       "    <tr>\n",
       "      <th>QS203EW</th>\n",
       "      <td>QS203EW0014</td>\n",
       "      <td>Europe: Ireland</td>\n",
       "    </tr>\n",
       "    <tr>\n",
       "      <th>QS203EW</th>\n",
       "      <td>QS203EW0015</td>\n",
       "      <td>Europe: Other Europe: Total</td>\n",
       "    </tr>\n",
       "    <tr>\n",
       "      <th>QS203EW</th>\n",
       "      <td>QS203EW0016</td>\n",
       "      <td>Europe: Other Europe: EU Countries: Total</td>\n",
       "    </tr>\n",
       "    <tr>\n",
       "      <th>QS203EW</th>\n",
       "      <td>QS203EW0017</td>\n",
       "      <td>Europe: Other Europe: EU countries: Member cou...</td>\n",
       "    </tr>\n",
       "    <tr>\n",
       "      <th>QS203EW</th>\n",
       "      <td>QS203EW0018</td>\n",
       "      <td>Europe: Other Europe: EU countries: Member cou...</td>\n",
       "    </tr>\n",
       "    <tr>\n",
       "      <th>QS203EW</th>\n",
       "      <td>QS203EW0019</td>\n",
       "      <td>Europe: Other Europe: EU countries: Member cou...</td>\n",
       "    </tr>\n",
       "    <tr>\n",
       "      <th>QS203EW</th>\n",
       "      <td>QS203EW0020</td>\n",
       "      <td>Europe: Other Europe: EU countries: Member cou...</td>\n",
       "    </tr>\n",
       "    <tr>\n",
       "      <th>QS203EW</th>\n",
       "      <td>QS203EW0021</td>\n",
       "      <td>Europe: Other Europe: EU countries: Member cou...</td>\n",
       "    </tr>\n",
       "    <tr>\n",
       "      <th>QS203EW</th>\n",
       "      <td>QS203EW0022</td>\n",
       "      <td>Europe: Other Europe: EU countries: Member cou...</td>\n",
       "    </tr>\n",
       "    <tr>\n",
       "      <th>QS203EW</th>\n",
       "      <td>QS203EW0023</td>\n",
       "      <td>Europe: Other Europe: EU countries: Member cou...</td>\n",
       "    </tr>\n",
       "    <tr>\n",
       "      <th>QS203EW</th>\n",
       "      <td>QS203EW0024</td>\n",
       "      <td>Europe: Other Europe: EU countries: Accession ...</td>\n",
       "    </tr>\n",
       "    <tr>\n",
       "      <th>QS203EW</th>\n",
       "      <td>QS203EW0025</td>\n",
       "      <td>Europe: Other Europe: EU countries: Accession ...</td>\n",
       "    </tr>\n",
       "  </tbody>\n",
       "</table>\n",
       "</div>"
      ],
      "text/plain": [
       "          ColumnVariableCode  \\\n",
       "DatasetId                      \n",
       "QS203EW          QS203EW0001   \n",
       "QS203EW          QS203EW0002   \n",
       "QS203EW          QS203EW0003   \n",
       "QS203EW          QS203EW0004   \n",
       "QS203EW          QS203EW0005   \n",
       "QS203EW          QS203EW0006   \n",
       "QS203EW          QS203EW0007   \n",
       "QS203EW          QS203EW0008   \n",
       "QS203EW          QS203EW0009   \n",
       "QS203EW          QS203EW0010   \n",
       "QS203EW          QS203EW0011   \n",
       "QS203EW          QS203EW0012   \n",
       "QS203EW          QS203EW0013   \n",
       "QS203EW          QS203EW0014   \n",
       "QS203EW          QS203EW0015   \n",
       "QS203EW          QS203EW0016   \n",
       "QS203EW          QS203EW0017   \n",
       "QS203EW          QS203EW0018   \n",
       "QS203EW          QS203EW0019   \n",
       "QS203EW          QS203EW0020   \n",
       "QS203EW          QS203EW0021   \n",
       "QS203EW          QS203EW0022   \n",
       "QS203EW          QS203EW0023   \n",
       "QS203EW          QS203EW0024   \n",
       "QS203EW          QS203EW0025   \n",
       "\n",
       "                                   ColumnVariableDescription  \n",
       "DatasetId                                                     \n",
       "QS203EW                     All categories: Country of birth  \n",
       "QS203EW                                        Europe: Total  \n",
       "QS203EW                        Europe: United Kingdom: Total  \n",
       "QS203EW                      Europe: United Kingdom: England  \n",
       "QS203EW             Europe: United Kingdom: Northern Ireland  \n",
       "QS203EW                     Europe: United Kingdom: Scotland  \n",
       "QS203EW                        Europe: United Kingdom: Wales  \n",
       "QS203EW        Europe: Great Britain not otherwise specified  \n",
       "QS203EW       Europe: United Kingdom not otherwise specified  \n",
       "QS203EW                                     Europe: Guernsey  \n",
       "QS203EW                                       Europe: Jersey  \n",
       "QS203EW      Europe: Channel Islands not otherwise specified  \n",
       "QS203EW                                  Europe: Isle of Man  \n",
       "QS203EW                                      Europe: Ireland  \n",
       "QS203EW                          Europe: Other Europe: Total  \n",
       "QS203EW            Europe: Other Europe: EU Countries: Total  \n",
       "QS203EW    Europe: Other Europe: EU countries: Member cou...  \n",
       "QS203EW    Europe: Other Europe: EU countries: Member cou...  \n",
       "QS203EW    Europe: Other Europe: EU countries: Member cou...  \n",
       "QS203EW    Europe: Other Europe: EU countries: Member cou...  \n",
       "QS203EW    Europe: Other Europe: EU countries: Member cou...  \n",
       "QS203EW    Europe: Other Europe: EU countries: Member cou...  \n",
       "QS203EW    Europe: Other Europe: EU countries: Member cou...  \n",
       "QS203EW    Europe: Other Europe: EU countries: Accession ...  \n",
       "QS203EW    Europe: Other Europe: EU countries: Accession ...  "
      ]
     },
     "execution_count": 24,
     "metadata": {},
     "output_type": "execute_result"
    }
   ],
   "source": [
    "# Select all the rows for the two columns 'ColumnVariableCode' and\n",
    "# 'ColumnVariableDescription', and show the top 25\n",
    "birth_orig.loc[:, ['ColumnVariableCode', 'ColumnVariableDescription']].head(25)"
   ]
  },
  {
   "cell_type": "markdown",
   "metadata": {},
   "source": [
    "Note how we have been able to pass a list of variables we wanted to select as columns, and `pandas` has returned the dataframe \"sliced\" with only those, cutting off the rest.\n",
    "\n",
    "It looks like the variable name follows a hierarchical pattern that dissaggregates by regions of the world. A sensible first approach might be to start considering only the largest regions. To do that, we need a list of the variable name for those aggregates since, once we have it, subsetting the dataframe will be straightforward. There are several ways we can go about it:\n",
    "\n",
    "* Since there are not that many regions, we can hardcode them into a list, the same we have used above:"
   ]
  },
  {
   "cell_type": "code",
   "execution_count": 25,
   "metadata": {
    "collapsed": true
   },
   "outputs": [],
   "source": [
    "region_codes = ['QS203EW0002', 'QS203EW0032', 'QS203EW0045', \\\n",
    "                'QS203EW0063', 'QS203EW0072']"
   ]
  },
  {
   "cell_type": "markdown",
   "metadata": {},
   "source": [
    "---\n",
    "\n",
    "**[Advanced extension. Optional]**\n",
    "\n",
    "* However, this approach would not get us very far if the list was longer. For that, a much more useful way is to write a loop that builds the list for us. To do this, we can remember some of the tricks learnt in the previous session about writing `for` loops and `if` statements and combine them with new ones about working with strings."
   ]
  },
  {
   "cell_type": "code",
   "execution_count": 26,
   "metadata": {},
   "outputs": [
    {
     "data": {
      "text/plain": [
       "['Europe: Total',\n",
       " 'Africa: Total',\n",
       " 'Middle East and Asia: Total',\n",
       " 'The Americas and the Caribbean: Total',\n",
       " 'Antarctica and Oceania: Total']"
      ]
     },
     "execution_count": 26,
     "metadata": {},
     "output_type": "execute_result"
    }
   ],
   "source": [
    "regions = []\n",
    "for var in birth_orig['ColumnVariableDescription']:\n",
    "    # Split the name of the variable in pieces by ': '\n",
    "    pieces = var.split(': ')\n",
    "    # Keep the first one (top hierarchy) and append ': Total'\n",
    "    name = pieces[0] + ': Total'\n",
    "    # If the name create matches the variable (exists in the original list), \n",
    "    # add the name to the list\n",
    "    if name == var:\n",
    "        regions.append(name)\n",
    "regions"
   ]
  },
  {
   "cell_type": "markdown",
   "metadata": {},
   "source": [
    "Let us work slowly by each step of this loop:\n",
    "\n",
    "* We first create an empty list where we will store the names of the regions.\n",
    "* We begin a loop over every single row the column containing the names (`ColumnVariableDescription`).\n",
    "* For each name, which is a string, we split it in pieces using `\": \"` as the points in the string where we want to break it, obtaining a list with the resulting pieces. For instance if we have `Europe: Total`, we essentially do:"
   ]
  },
  {
   "cell_type": "code",
   "execution_count": 27,
   "metadata": {},
   "outputs": [
    {
     "data": {
      "text/plain": [
       "['Europe', 'Total']"
      ]
     },
     "execution_count": 27,
     "metadata": {},
     "output_type": "execute_result"
    }
   ],
   "source": [
    "'Europe: Total'.split(': ')"
   ]
  },
  {
   "cell_type": "markdown",
   "metadata": {},
   "source": [
    "* We keep the first element, as it contains the name we want to maintain.\n",
    "* In order to build the actual name of the variable, we join it to `\": Total\"`, obtaining the string we want to keep:"
   ]
  },
  {
   "cell_type": "code",
   "execution_count": 28,
   "metadata": {},
   "outputs": [
    {
     "data": {
      "text/plain": [
       "'Europe: Total'"
      ]
     },
     "execution_count": 28,
     "metadata": {},
     "output_type": "execute_result"
    }
   ],
   "source": [
    "'Europe' + ': Total'"
   ]
  },
  {
   "cell_type": "markdown",
   "metadata": {},
   "source": [
    "* We then check that the string we have built is the same as the variable we began with. If so, we save it on the list we created in the beginning. This step is a bit counter-intuitive, but is done to ensure a) that the name of the variable exists, and b) that it is saved only once.\n",
    "\n",
    "Now we have the names, we need to convert them into the codes. There are several ways to go about it, but here we will show one that relies on the indexing capabilities of `pandas`. Essentially we take `birth_orig` and index it on the names of the variables, to then subset it, keeping only those in our list (the variables we want to retain)."
   ]
  },
  {
   "cell_type": "code",
   "execution_count": 29,
   "metadata": {},
   "outputs": [
    {
     "data": {
      "text/html": [
       "<div>\n",
       "<style scoped>\n",
       "    .dataframe tbody tr th:only-of-type {\n",
       "        vertical-align: middle;\n",
       "    }\n",
       "\n",
       "    .dataframe tbody tr th {\n",
       "        vertical-align: top;\n",
       "    }\n",
       "\n",
       "    .dataframe thead th {\n",
       "        text-align: right;\n",
       "    }\n",
       "</style>\n",
       "<table border=\"1\" class=\"dataframe\">\n",
       "  <thead>\n",
       "    <tr style=\"text-align: right;\">\n",
       "      <th></th>\n",
       "      <th>ColumnVariableCode</th>\n",
       "      <th>ColumnVariableMeasurementUnit</th>\n",
       "    </tr>\n",
       "    <tr>\n",
       "      <th>ColumnVariableDescription</th>\n",
       "      <th></th>\n",
       "      <th></th>\n",
       "    </tr>\n",
       "  </thead>\n",
       "  <tbody>\n",
       "    <tr>\n",
       "      <th>Europe: Total</th>\n",
       "      <td>QS203EW0002</td>\n",
       "      <td>Count</td>\n",
       "    </tr>\n",
       "    <tr>\n",
       "      <th>Africa: Total</th>\n",
       "      <td>QS203EW0032</td>\n",
       "      <td>Count</td>\n",
       "    </tr>\n",
       "    <tr>\n",
       "      <th>Middle East and Asia: Total</th>\n",
       "      <td>QS203EW0045</td>\n",
       "      <td>Count</td>\n",
       "    </tr>\n",
       "    <tr>\n",
       "      <th>The Americas and the Caribbean: Total</th>\n",
       "      <td>QS203EW0063</td>\n",
       "      <td>Count</td>\n",
       "    </tr>\n",
       "    <tr>\n",
       "      <th>Antarctica and Oceania: Total</th>\n",
       "      <td>QS203EW0072</td>\n",
       "      <td>Count</td>\n",
       "    </tr>\n",
       "  </tbody>\n",
       "</table>\n",
       "</div>"
      ],
      "text/plain": [
       "                                      ColumnVariableCode  \\\n",
       "ColumnVariableDescription                                  \n",
       "Europe: Total                                QS203EW0002   \n",
       "Africa: Total                                QS203EW0032   \n",
       "Middle East and Asia: Total                  QS203EW0045   \n",
       "The Americas and the Caribbean: Total        QS203EW0063   \n",
       "Antarctica and Oceania: Total                QS203EW0072   \n",
       "\n",
       "                                      ColumnVariableMeasurementUnit  \n",
       "ColumnVariableDescription                                            \n",
       "Europe: Total                                                 Count  \n",
       "Africa: Total                                                 Count  \n",
       "Middle East and Asia: Total                                   Count  \n",
       "The Americas and the Caribbean: Total                         Count  \n",
       "Antarctica and Oceania: Total                                 Count  "
      ]
     },
     "execution_count": 29,
     "metadata": {},
     "output_type": "execute_result"
    }
   ],
   "source": [
    "# Set the column `ColumnVariableDescription` as the index and keep only those\n",
    "# in the list `regions`\n",
    "subset = birth_orig.set_index('ColumnVariableDescription').reindex(regions)\n",
    "\n",
    "subset"
   ]
  },
  {
   "cell_type": "markdown",
   "metadata": {},
   "source": [
    " Once this is done, all left to do is to retrieve the codes:"
   ]
  },
  {
   "cell_type": "code",
   "execution_count": 30,
   "metadata": {},
   "outputs": [
    {
     "data": {
      "text/plain": [
       "['QS203EW0002', 'QS203EW0032', 'QS203EW0045', 'QS203EW0063', 'QS203EW0072']"
      ]
     },
     "execution_count": 30,
     "metadata": {},
     "output_type": "execute_result"
    }
   ],
   "source": [
    "# Convert the column `ColumnVariableCode` in the table `subset`\n",
    "# into a list\n",
    "region_codes = list(subset['ColumnVariableCode'])\n",
    "\n",
    "region_codes"
   ]
  },
  {
   "cell_type": "markdown",
   "metadata": {},
   "source": [
    "Which is the same that we hardcoded originally, only it has been entirely picked up by our python code, not by a human."
   ]
  },
  {
   "cell_type": "markdown",
   "metadata": {},
   "source": [
    "---\n",
    "\n",
    "<a rel=\"repo\" href=\"https://github.com/darribas/gds18\"><img alt=\"@darribas/gds18\" style=\"border-width:0\" src=\"../../GitHub-Mark.png\" /></a>\n",
    "\n",
    "This notebook, as well as the entire set of materials, code, and data included\n",
    "in this course are available as an open Github repository available at: [`https://github.com/darribas/gds18`](https://github.com/darribas/gds18)\n",
    "\n",
    "<a rel=\"license\" href=\"http://creativecommons.org/licenses/by-nc-sa/4.0/\"><img alt=\"Creative Commons License\" style=\"border-width:0\" src=\"https://i.creativecommons.org/l/by-nc-sa/4.0/88x31.png\" /></a><br /><span xmlns:dct=\"http://purl.org/dc/terms/\" property=\"dct:title\">Geographic Data Science'18 - Lab 2</span> by <a xmlns:cc=\"http://creativecommons.org/ns#\" href=\"http://darribas.org\" property=\"cc:attributionName\" rel=\"cc:attributionURL\">Dani Arribas-Bel</a> is licensed under a <a rel=\"license\" href=\"http://creativecommons.org/licenses/by-nc-sa/4.0/\">Creative Commons Attribution-NonCommercial-ShareAlike 4.0 International License</a>.\n"
   ]
  }
 ],
 "metadata": {
  "kernelspec": {
   "display_name": "Python 3",
   "language": "python",
   "name": "python3"
  },
  "language_info": {
   "codemirror_mode": {
    "name": "ipython",
    "version": 3
   },
   "file_extension": ".py",
   "mimetype": "text/x-python",
   "name": "python",
   "nbconvert_exporter": "python",
   "pygments_lexer": "ipython3",
   "version": "3.6.6"
  }
 },
 "nbformat": 4,
 "nbformat_minor": 2
}
